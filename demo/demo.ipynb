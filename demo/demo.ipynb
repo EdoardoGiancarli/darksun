{
 "cells": [
  {
   "cell_type": "markdown",
   "id": "b085acfc",
   "metadata": {},
   "source": [
    "# **Cooking on top of a Dark Sun**"
   ]
  },
  {
   "cell_type": "markdown",
   "id": "3d491ea8",
   "metadata": {},
   "source": []
  }
 ],
 "metadata": {
  "language_info": {
   "name": "python"
  }
 },
 "nbformat": 4,
 "nbformat_minor": 5
}
